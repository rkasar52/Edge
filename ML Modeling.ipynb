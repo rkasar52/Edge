{
 "cells": [
  {
   "cell_type": "markdown",
   "id": "42d2e7aa",
   "metadata": {},
   "source": [
    "# Predict Bike Wait Times"
   ]
  },
  {
   "cell_type": "code",
   "execution_count": 1,
   "id": "cc710360",
   "metadata": {},
   "outputs": [],
   "source": [
    "import pandas as pd\n",
    "import numpy as np\n",
    "import random\n",
    "import sklearn"
   ]
  },
  {
   "cell_type": "code",
   "execution_count": 134,
   "id": "84496aa2",
   "metadata": {},
   "outputs": [],
   "source": [
    "from sklearn.linear_model import LinearRegression, LogisticRegression, LogisticRegressionCV\n",
    "from sklearn.ensemble import RandomForestRegressor, RandomForestClassifier\n",
    "from sklearn.linear_model import Lasso\n",
    "from sklearn.linear_model import ElasticNet\n",
    "from sklearn.tree import DecisionTreeRegressor, DecisionTreeClassifier\n",
    "from sklearn.neighbors import KNeighborsRegressor\n",
    "from sklearn.ensemble import GradientBoostingRegressor, GradientBoostingClassifier"
   ]
  },
  {
   "cell_type": "markdown",
   "id": "d7da8ab1",
   "metadata": {},
   "source": [
    "# Use full dataset with weather, cluster, and time data"
   ]
  },
  {
   "cell_type": "code",
   "execution_count": 208,
   "id": "b4c60dbb",
   "metadata": {},
   "outputs": [],
   "source": [
    "df_train = pd.read_csv('202109-stations-capacity/all_data_train_cluster.csv')\n",
    "df_test = pd.read_csv('202109-stations-capacity/all_data_test_cluster.csv')"
   ]
  },
  {
   "cell_type": "code",
   "execution_count": 209,
   "id": "cdfd5442",
   "metadata": {},
   "outputs": [],
   "source": [
    "df_train['seconds_from_hour'] = 60*df_train['minute'] + df_train['second']\n",
    "df_test['seconds_from_hour'] = 60*df_test['minute'] + df_test['second']"
   ]
  },
  {
   "cell_type": "code",
   "execution_count": 210,
   "id": "5a013170",
   "metadata": {},
   "outputs": [],
   "source": [
    "X_train = df_train.loc[:, df_train.columns != 'decrement']\n",
    "X_train = X_train[X_train['increment']==1]\n",
    "X_train = X_train[X_train['wait_time']!=0]\n",
    "\n",
    "#X_train = X_train[X_train['station'] == \"Central Square at Mass Ave / Essex St\"]\n"
   ]
  },
  {
   "cell_type": "code",
   "execution_count": 194,
   "id": "21685c8f",
   "metadata": {},
   "outputs": [],
   "source": [
    "features = ['station', \n",
    "            'day_of_week', \n",
    "            'day', \n",
    "            'hour', \n",
    "            'seconds_from_hour',\n",
    "            'Temp.x',\n",
    "            'Rain.x',\n",
    "            'avgBikeIn',\n",
    "            'avgBikeOut',\n",
    "            'avgwait',\n",
    "            'Total.docks',\n",
    "            'cluster1',\n",
    "            'cluster2',\n",
    "            'cluster3',\n",
    "            'cluster4',\n",
    "            'cluster5',\n",
    "            'cluster6'\n",
    "           ]"
   ]
  },
  {
   "cell_type": "code",
   "execution_count": 211,
   "id": "12dcd855",
   "metadata": {},
   "outputs": [],
   "source": [
    "X_train = X_train[X_train['Total.docks'].notnull()]"
   ]
  },
  {
   "cell_type": "code",
   "execution_count": 212,
   "id": "fa36572b",
   "metadata": {},
   "outputs": [],
   "source": [
    "y_train = X_train['wait_time'] > 300\n",
    "y_train = y_train.replace(True, 1)\n",
    "y_train = y_train.replace(False, 0)\n"
   ]
  },
  {
   "cell_type": "code",
   "execution_count": 213,
   "id": "28dfe4da",
   "metadata": {},
   "outputs": [
    {
     "data": {
      "text/plain": [
       "42        1\n",
       "54        1\n",
       "63        1\n",
       "70        1\n",
       "85        1\n",
       "         ..\n",
       "730380    1\n",
       "730381    0\n",
       "730382    1\n",
       "730384    1\n",
       "730385    1\n",
       "Name: wait_time, Length: 360491, dtype: int64"
      ]
     },
     "execution_count": 213,
     "metadata": {},
     "output_type": "execute_result"
    }
   ],
   "source": [
    "y_train"
   ]
  },
  {
   "cell_type": "code",
   "execution_count": 214,
   "id": "f84c5fd5",
   "metadata": {},
   "outputs": [],
   "source": [
    "X_train = X_train[features]\n",
    "X_train = pd.get_dummies(X_train, columns = ['station', \n",
    "                                             'day_of_week', \n",
    "                                             'day', \n",
    "                                             'hour'\n",
    "                                             ], drop_first = True)\n"
   ]
  },
  {
   "cell_type": "code",
   "execution_count": 215,
   "id": "8f9e6439",
   "metadata": {},
   "outputs": [],
   "source": [
    "X_test = df_test.loc[:, df_test.columns != 'decrement']\n",
    "X_test = X_test[X_test['increment']==1]\n",
    "X_test = X_test[X_test['wait_time']!=0]\n",
    "\n",
    "#X_test = X_test[X_test['station'] == \"Central Square at Mass Ave / Essex St\"]\n"
   ]
  },
  {
   "cell_type": "code",
   "execution_count": 216,
   "id": "79ecca4c",
   "metadata": {},
   "outputs": [],
   "source": [
    "X_test = X_test[X_test['Total.docks'].notnull()]"
   ]
  },
  {
   "cell_type": "code",
   "execution_count": 217,
   "id": "250629c1",
   "metadata": {},
   "outputs": [
    {
     "data": {
      "text/plain": [
       "''"
      ]
     },
     "execution_count": 217,
     "metadata": {},
     "output_type": "execute_result"
    }
   ],
   "source": [
    "y_test = X_test['wait_time'] > 300\n",
    "y_test = y_test.replace(True, 1)\n",
    "y_test = y_test.replace(False, 0)\n",
    ";"
   ]
  },
  {
   "cell_type": "code",
   "execution_count": 218,
   "id": "6ab28aa7",
   "metadata": {},
   "outputs": [],
   "source": [
    "X_test = X_test[features]\n",
    "X_test = pd.get_dummies(X_test, columns = [ 'station',\n",
    "                                             'day_of_week', \n",
    "                                             'day', \n",
    "                                             'hour',\n",
    "                                             ], drop_first = True)"
   ]
  },
  {
   "cell_type": "code",
   "execution_count": 219,
   "id": "fd59f3fb",
   "metadata": {},
   "outputs": [],
   "source": [
    "# fix issue where columns are missing in training/test due to one-hot encoding"
   ]
  },
  {
   "cell_type": "code",
   "execution_count": 220,
   "id": "06f9c8ac",
   "metadata": {},
   "outputs": [],
   "source": [
    "for col in X_train.columns:\n",
    "    if col not in X_test:\n",
    "        X_test[col] = 0"
   ]
  },
  {
   "cell_type": "code",
   "execution_count": 221,
   "id": "6cd98d83",
   "metadata": {},
   "outputs": [],
   "source": [
    "for col in X_test.columns:\n",
    "    if col not in X_train:\n",
    "        X_train[col] = 0"
   ]
  },
  {
   "cell_type": "code",
   "execution_count": 222,
   "id": "b9c1f921",
   "metadata": {},
   "outputs": [],
   "source": [
    "# ensure columns are in the same order in train and test\n",
    "cols = X_train.columns\n",
    "X_test = X_test[cols]"
   ]
  },
  {
   "cell_type": "code",
   "execution_count": 223,
   "id": "fd20889f",
   "metadata": {},
   "outputs": [
    {
     "data": {
      "text/plain": [
       "LogisticRegressionCV(max_iter=1000, random_state=1)"
      ]
     },
     "execution_count": 223,
     "metadata": {},
     "output_type": "execute_result"
    }
   ],
   "source": [
    "# Select the model type\n",
    "# model = RandomForestClassifier()\n",
    "model = LogisticRegressionCV(random_state=1, max_iter = 1000)\n",
    "# Fit the model to our data\n",
    "model.fit(X_train, y_train)"
   ]
  },
  {
   "cell_type": "code",
   "execution_count": 224,
   "id": "f62f94c1",
   "metadata": {},
   "outputs": [
    {
     "name": "stdout",
     "output_type": "stream",
     "text": [
      "In-sample AUC:  0.6966881174439258\n",
      "Out-sample AUC:  0.6892512058169933\n"
     ]
    }
   ],
   "source": [
    "from sklearn import metrics\n",
    "y_train_pred = model.predict(X_train)\n",
    "y_test_pred = model.predict(X_test)\n",
    "\n",
    "# r2_train = metrics.r2_score(y_train, y_train_pred)\n",
    "# r2_test = metrics.r2_score(y_test, y_test_pred)\n",
    "\n",
    "auc_train = metrics.roc_auc_score(y_train, model.predict_proba(X_train)[:,1])\n",
    "auc_test = metrics.roc_auc_score(y_test, model.predict_proba(X_test)[:,1])\n",
    "\n",
    "print(\"In-sample AUC: \", auc_train)\n",
    "print(\"Out-sample AUC: \", auc_test)"
   ]
  },
  {
   "cell_type": "code",
   "execution_count": 128,
   "id": "55f6f251",
   "metadata": {},
   "outputs": [
    {
     "data": {
      "text/plain": [
       "0.7031321989856737"
      ]
     },
     "execution_count": 128,
     "metadata": {},
     "output_type": "execute_result"
    }
   ],
   "source": [
    "auc_test"
   ]
  },
  {
   "cell_type": "code",
   "execution_count": 120,
   "id": "18241967",
   "metadata": {},
   "outputs": [
    {
     "data": {
      "text/plain": [
       "array([1, 1, 1, ..., 1, 1, 1], dtype=int64)"
      ]
     },
     "execution_count": 120,
     "metadata": {},
     "output_type": "execute_result"
    }
   ],
   "source": [
    "y_test_pred"
   ]
  },
  {
   "cell_type": "code",
   "execution_count": null,
   "id": "774d1a77",
   "metadata": {},
   "outputs": [],
   "source": []
  },
  {
   "cell_type": "code",
   "execution_count": null,
   "id": "7dae7f9b",
   "metadata": {},
   "outputs": [],
   "source": []
  },
  {
   "cell_type": "code",
   "execution_count": null,
   "id": "e5b0bc98",
   "metadata": {},
   "outputs": [],
   "source": []
  },
  {
   "cell_type": "code",
   "execution_count": 14,
   "id": "cf7e5594",
   "metadata": {},
   "outputs": [],
   "source": [
    "# Old version"
   ]
  },
  {
   "cell_type": "code",
   "execution_count": 5,
   "id": "1132a630",
   "metadata": {},
   "outputs": [],
   "source": [
    "df = pd.read_csv('202109-stations-capacity/all_data.csv')"
   ]
  },
  {
   "cell_type": "code",
   "execution_count": 6,
   "id": "2b861068",
   "metadata": {},
   "outputs": [
    {
     "data": {
      "text/html": [
       "<div>\n",
       "<style scoped>\n",
       "    .dataframe tbody tr th:only-of-type {\n",
       "        vertical-align: middle;\n",
       "    }\n",
       "\n",
       "    .dataframe tbody tr th {\n",
       "        vertical-align: top;\n",
       "    }\n",
       "\n",
       "    .dataframe thead th {\n",
       "        text-align: right;\n",
       "    }\n",
       "</style>\n",
       "<table border=\"1\" class=\"dataframe\">\n",
       "  <thead>\n",
       "    <tr style=\"text-align: right;\">\n",
       "      <th></th>\n",
       "      <th>time</th>\n",
       "      <th>capacity</th>\n",
       "      <th>station</th>\n",
       "      <th>increment</th>\n",
       "      <th>decrement</th>\n",
       "      <th>wait_time</th>\n",
       "      <th>year</th>\n",
       "      <th>month</th>\n",
       "      <th>day_of_week</th>\n",
       "      <th>day</th>\n",
       "      <th>hour</th>\n",
       "      <th>minute</th>\n",
       "      <th>second</th>\n",
       "      <th>seconds_from_hour</th>\n",
       "    </tr>\n",
       "  </thead>\n",
       "  <tbody>\n",
       "    <tr>\n",
       "      <th>0</th>\n",
       "      <td>00:10.3</td>\n",
       "      <td>15</td>\n",
       "      <td>The Dimock Center</td>\n",
       "      <td>0</td>\n",
       "      <td>1</td>\n",
       "      <td>0</td>\n",
       "      <td>2021</td>\n",
       "      <td>9</td>\n",
       "      <td>Wednesday</td>\n",
       "      <td>1</td>\n",
       "      <td>0</td>\n",
       "      <td>0</td>\n",
       "      <td>10</td>\n",
       "      <td>10</td>\n",
       "    </tr>\n",
       "    <tr>\n",
       "      <th>1</th>\n",
       "      <td>00:11.2</td>\n",
       "      <td>18</td>\n",
       "      <td>Boylston St at Fairfield St</td>\n",
       "      <td>0</td>\n",
       "      <td>1</td>\n",
       "      <td>0</td>\n",
       "      <td>2021</td>\n",
       "      <td>9</td>\n",
       "      <td>Wednesday</td>\n",
       "      <td>1</td>\n",
       "      <td>0</td>\n",
       "      <td>0</td>\n",
       "      <td>11</td>\n",
       "      <td>11</td>\n",
       "    </tr>\n",
       "    <tr>\n",
       "      <th>2</th>\n",
       "      <td>00:11.4</td>\n",
       "      <td>17</td>\n",
       "      <td>Boylston St at Fairfield St</td>\n",
       "      <td>0</td>\n",
       "      <td>1</td>\n",
       "      <td>0</td>\n",
       "      <td>2021</td>\n",
       "      <td>9</td>\n",
       "      <td>Wednesday</td>\n",
       "      <td>1</td>\n",
       "      <td>0</td>\n",
       "      <td>0</td>\n",
       "      <td>11</td>\n",
       "      <td>11</td>\n",
       "    </tr>\n",
       "    <tr>\n",
       "      <th>3</th>\n",
       "      <td>00:13.3</td>\n",
       "      <td>14</td>\n",
       "      <td>Congress St at Northern Ave</td>\n",
       "      <td>0</td>\n",
       "      <td>1</td>\n",
       "      <td>0</td>\n",
       "      <td>2021</td>\n",
       "      <td>9</td>\n",
       "      <td>Wednesday</td>\n",
       "      <td>1</td>\n",
       "      <td>0</td>\n",
       "      <td>0</td>\n",
       "      <td>13</td>\n",
       "      <td>13</td>\n",
       "    </tr>\n",
       "    <tr>\n",
       "      <th>4</th>\n",
       "      <td>00:21.2</td>\n",
       "      <td>24</td>\n",
       "      <td>Inman Square at Springfield St.</td>\n",
       "      <td>0</td>\n",
       "      <td>1</td>\n",
       "      <td>0</td>\n",
       "      <td>2021</td>\n",
       "      <td>9</td>\n",
       "      <td>Wednesday</td>\n",
       "      <td>1</td>\n",
       "      <td>0</td>\n",
       "      <td>0</td>\n",
       "      <td>21</td>\n",
       "      <td>21</td>\n",
       "    </tr>\n",
       "    <tr>\n",
       "      <th>...</th>\n",
       "      <td>...</td>\n",
       "      <td>...</td>\n",
       "      <td>...</td>\n",
       "      <td>...</td>\n",
       "      <td>...</td>\n",
       "      <td>...</td>\n",
       "      <td>...</td>\n",
       "      <td>...</td>\n",
       "      <td>...</td>\n",
       "      <td>...</td>\n",
       "      <td>...</td>\n",
       "      <td>...</td>\n",
       "      <td>...</td>\n",
       "      <td>...</td>\n",
       "    </tr>\n",
       "    <tr>\n",
       "      <th>862139</th>\n",
       "      <td>45:24.9</td>\n",
       "      <td>105</td>\n",
       "      <td>E Cottage St at Columbia Rd</td>\n",
       "      <td>1</td>\n",
       "      <td>0</td>\n",
       "      <td>0</td>\n",
       "      <td>2021</td>\n",
       "      <td>10</td>\n",
       "      <td>Sunday</td>\n",
       "      <td>3</td>\n",
       "      <td>21</td>\n",
       "      <td>45</td>\n",
       "      <td>24</td>\n",
       "      <td>2724</td>\n",
       "    </tr>\n",
       "    <tr>\n",
       "      <th>862140</th>\n",
       "      <td>28:07.5</td>\n",
       "      <td>13</td>\n",
       "      <td>Christian Science Plaza - Massachusetts Ave at...</td>\n",
       "      <td>1</td>\n",
       "      <td>0</td>\n",
       "      <td>0</td>\n",
       "      <td>2021</td>\n",
       "      <td>10</td>\n",
       "      <td>Monday</td>\n",
       "      <td>4</td>\n",
       "      <td>0</td>\n",
       "      <td>28</td>\n",
       "      <td>7</td>\n",
       "      <td>1687</td>\n",
       "    </tr>\n",
       "    <tr>\n",
       "      <th>862141</th>\n",
       "      <td>05:12.1</td>\n",
       "      <td>27</td>\n",
       "      <td>Boston Landing</td>\n",
       "      <td>1</td>\n",
       "      <td>0</td>\n",
       "      <td>0</td>\n",
       "      <td>2021</td>\n",
       "      <td>10</td>\n",
       "      <td>Monday</td>\n",
       "      <td>4</td>\n",
       "      <td>10</td>\n",
       "      <td>5</td>\n",
       "      <td>12</td>\n",
       "      <td>312</td>\n",
       "    </tr>\n",
       "    <tr>\n",
       "      <th>862142</th>\n",
       "      <td>41:33.2</td>\n",
       "      <td>25</td>\n",
       "      <td>Government Center - Cambridge St at Court St</td>\n",
       "      <td>1</td>\n",
       "      <td>0</td>\n",
       "      <td>0</td>\n",
       "      <td>2021</td>\n",
       "      <td>10</td>\n",
       "      <td>Monday</td>\n",
       "      <td>4</td>\n",
       "      <td>12</td>\n",
       "      <td>41</td>\n",
       "      <td>33</td>\n",
       "      <td>2493</td>\n",
       "    </tr>\n",
       "    <tr>\n",
       "      <th>862143</th>\n",
       "      <td>45:57.9</td>\n",
       "      <td>46</td>\n",
       "      <td>Grove St at Community Path</td>\n",
       "      <td>1</td>\n",
       "      <td>0</td>\n",
       "      <td>0</td>\n",
       "      <td>2021</td>\n",
       "      <td>10</td>\n",
       "      <td>Monday</td>\n",
       "      <td>4</td>\n",
       "      <td>15</td>\n",
       "      <td>45</td>\n",
       "      <td>57</td>\n",
       "      <td>2757</td>\n",
       "    </tr>\n",
       "  </tbody>\n",
       "</table>\n",
       "<p>862144 rows × 14 columns</p>\n",
       "</div>"
      ],
      "text/plain": [
       "           time  capacity                                            station  \\\n",
       "0       00:10.3        15                                  The Dimock Center   \n",
       "1       00:11.2        18                        Boylston St at Fairfield St   \n",
       "2       00:11.4        17                        Boylston St at Fairfield St   \n",
       "3       00:13.3        14                        Congress St at Northern Ave   \n",
       "4       00:21.2        24                    Inman Square at Springfield St.   \n",
       "...         ...       ...                                                ...   \n",
       "862139  45:24.9       105                        E Cottage St at Columbia Rd   \n",
       "862140  28:07.5        13  Christian Science Plaza - Massachusetts Ave at...   \n",
       "862141  05:12.1        27                                     Boston Landing   \n",
       "862142  41:33.2        25       Government Center - Cambridge St at Court St   \n",
       "862143  45:57.9        46                         Grove St at Community Path   \n",
       "\n",
       "        increment  decrement  wait_time  year  month day_of_week  day  hour  \\\n",
       "0               0          1          0  2021      9   Wednesday    1     0   \n",
       "1               0          1          0  2021      9   Wednesday    1     0   \n",
       "2               0          1          0  2021      9   Wednesday    1     0   \n",
       "3               0          1          0  2021      9   Wednesday    1     0   \n",
       "4               0          1          0  2021      9   Wednesday    1     0   \n",
       "...           ...        ...        ...   ...    ...         ...  ...   ...   \n",
       "862139          1          0          0  2021     10      Sunday    3    21   \n",
       "862140          1          0          0  2021     10      Monday    4     0   \n",
       "862141          1          0          0  2021     10      Monday    4    10   \n",
       "862142          1          0          0  2021     10      Monday    4    12   \n",
       "862143          1          0          0  2021     10      Monday    4    15   \n",
       "\n",
       "        minute  second  seconds_from_hour  \n",
       "0            0      10                 10  \n",
       "1            0      11                 11  \n",
       "2            0      11                 11  \n",
       "3            0      13                 13  \n",
       "4            0      21                 21  \n",
       "...        ...     ...                ...  \n",
       "862139      45      24               2724  \n",
       "862140      28       7               1687  \n",
       "862141       5      12                312  \n",
       "862142      41      33               2493  \n",
       "862143      45      57               2757  \n",
       "\n",
       "[862144 rows x 14 columns]"
      ]
     },
     "execution_count": 6,
     "metadata": {},
     "output_type": "execute_result"
    }
   ],
   "source": [
    "df"
   ]
  },
  {
   "cell_type": "code",
   "execution_count": 5,
   "id": "0e6df1b2",
   "metadata": {},
   "outputs": [],
   "source": [
    "features = ['station', 'day_of_week', 'day', 'hour', 'seconds_from_hour']"
   ]
  },
  {
   "cell_type": "code",
   "execution_count": 6,
   "id": "a6dbce9b",
   "metadata": {},
   "outputs": [],
   "source": [
    "# get only instances where bike left station\n",
    "\n",
    "#X = df.loc[:, df.columns != 'wait_time']\n",
    "X = df.loc[:, df.columns != 'decrement']\n",
    "X = X[X['increment']==1]\n",
    "X = X[X['wait_time']!=0]\n",
    "#X =X[X['station']=='Ames St at Main St']"
   ]
  },
  {
   "cell_type": "code",
   "execution_count": 7,
   "id": "ab56e75e",
   "metadata": {},
   "outputs": [
    {
     "data": {
      "text/html": [
       "<div>\n",
       "<style scoped>\n",
       "    .dataframe tbody tr th:only-of-type {\n",
       "        vertical-align: middle;\n",
       "    }\n",
       "\n",
       "    .dataframe tbody tr th {\n",
       "        vertical-align: top;\n",
       "    }\n",
       "\n",
       "    .dataframe thead th {\n",
       "        text-align: right;\n",
       "    }\n",
       "</style>\n",
       "<table border=\"1\" class=\"dataframe\">\n",
       "  <thead>\n",
       "    <tr style=\"text-align: right;\">\n",
       "      <th></th>\n",
       "      <th>time</th>\n",
       "      <th>capacity</th>\n",
       "      <th>station</th>\n",
       "      <th>increment</th>\n",
       "      <th>wait_time</th>\n",
       "      <th>year</th>\n",
       "      <th>month</th>\n",
       "      <th>day_of_week</th>\n",
       "      <th>day</th>\n",
       "      <th>hour</th>\n",
       "      <th>minute</th>\n",
       "      <th>second</th>\n",
       "      <th>seconds_from_hour</th>\n",
       "    </tr>\n",
       "  </thead>\n",
       "  <tbody>\n",
       "    <tr>\n",
       "      <th>42</th>\n",
       "      <td>03:02.3</td>\n",
       "      <td>20</td>\n",
       "      <td>Galileo Galilei Way at Main Street</td>\n",
       "      <td>1</td>\n",
       "      <td>1056</td>\n",
       "      <td>2021</td>\n",
       "      <td>9</td>\n",
       "      <td>Wednesday</td>\n",
       "      <td>1</td>\n",
       "      <td>0</td>\n",
       "      <td>3</td>\n",
       "      <td>2</td>\n",
       "      <td>182</td>\n",
       "    </tr>\n",
       "    <tr>\n",
       "      <th>54</th>\n",
       "      <td>03:54.5</td>\n",
       "      <td>15</td>\n",
       "      <td>Lesley University</td>\n",
       "      <td>1</td>\n",
       "      <td>1034</td>\n",
       "      <td>2021</td>\n",
       "      <td>9</td>\n",
       "      <td>Wednesday</td>\n",
       "      <td>1</td>\n",
       "      <td>0</td>\n",
       "      <td>3</td>\n",
       "      <td>54</td>\n",
       "      <td>234</td>\n",
       "    </tr>\n",
       "    <tr>\n",
       "      <th>63</th>\n",
       "      <td>04:46.0</td>\n",
       "      <td>21</td>\n",
       "      <td>Beacon St at Massachusetts Ave</td>\n",
       "      <td>1</td>\n",
       "      <td>664</td>\n",
       "      <td>2021</td>\n",
       "      <td>9</td>\n",
       "      <td>Wednesday</td>\n",
       "      <td>1</td>\n",
       "      <td>0</td>\n",
       "      <td>4</td>\n",
       "      <td>46</td>\n",
       "      <td>286</td>\n",
       "    </tr>\n",
       "    <tr>\n",
       "      <th>70</th>\n",
       "      <td>05:12.1</td>\n",
       "      <td>24</td>\n",
       "      <td>Roxbury Crossing T Stop - Columbus Ave at Trem...</td>\n",
       "      <td>1</td>\n",
       "      <td>1744</td>\n",
       "      <td>2021</td>\n",
       "      <td>9</td>\n",
       "      <td>Wednesday</td>\n",
       "      <td>1</td>\n",
       "      <td>0</td>\n",
       "      <td>5</td>\n",
       "      <td>12</td>\n",
       "      <td>312</td>\n",
       "    </tr>\n",
       "    <tr>\n",
       "      <th>85</th>\n",
       "      <td>05:55.7</td>\n",
       "      <td>16</td>\n",
       "      <td>Cambridge St at Joy St</td>\n",
       "      <td>1</td>\n",
       "      <td>506</td>\n",
       "      <td>2021</td>\n",
       "      <td>9</td>\n",
       "      <td>Wednesday</td>\n",
       "      <td>1</td>\n",
       "      <td>0</td>\n",
       "      <td>5</td>\n",
       "      <td>55</td>\n",
       "      <td>355</td>\n",
       "    </tr>\n",
       "    <tr>\n",
       "      <th>...</th>\n",
       "      <td>...</td>\n",
       "      <td>...</td>\n",
       "      <td>...</td>\n",
       "      <td>...</td>\n",
       "      <td>...</td>\n",
       "      <td>...</td>\n",
       "      <td>...</td>\n",
       "      <td>...</td>\n",
       "      <td>...</td>\n",
       "      <td>...</td>\n",
       "      <td>...</td>\n",
       "      <td>...</td>\n",
       "      <td>...</td>\n",
       "    </tr>\n",
       "    <tr>\n",
       "      <th>862100</th>\n",
       "      <td>09:39.9</td>\n",
       "      <td>35</td>\n",
       "      <td>South Station - 700 Atlantic Ave</td>\n",
       "      <td>1</td>\n",
       "      <td>5826</td>\n",
       "      <td>2021</td>\n",
       "      <td>10</td>\n",
       "      <td>Friday</td>\n",
       "      <td>1</td>\n",
       "      <td>1</td>\n",
       "      <td>9</td>\n",
       "      <td>39</td>\n",
       "      <td>579</td>\n",
       "    </tr>\n",
       "    <tr>\n",
       "      <th>862104</th>\n",
       "      <td>46:46.1</td>\n",
       "      <td>23</td>\n",
       "      <td>South Station - 700 Atlantic Ave</td>\n",
       "      <td>1</td>\n",
       "      <td>125752</td>\n",
       "      <td>2021</td>\n",
       "      <td>10</td>\n",
       "      <td>Friday</td>\n",
       "      <td>1</td>\n",
       "      <td>2</td>\n",
       "      <td>46</td>\n",
       "      <td>46</td>\n",
       "      <td>2806</td>\n",
       "    </tr>\n",
       "    <tr>\n",
       "      <th>862105</th>\n",
       "      <td>01:31.3</td>\n",
       "      <td>58</td>\n",
       "      <td>Dudley Square - Bolling Building</td>\n",
       "      <td>1</td>\n",
       "      <td>67858</td>\n",
       "      <td>2021</td>\n",
       "      <td>10</td>\n",
       "      <td>Friday</td>\n",
       "      <td>1</td>\n",
       "      <td>4</td>\n",
       "      <td>1</td>\n",
       "      <td>31</td>\n",
       "      <td>91</td>\n",
       "    </tr>\n",
       "    <tr>\n",
       "      <th>862115</th>\n",
       "      <td>52:30.0</td>\n",
       "      <td>60</td>\n",
       "      <td>Dudley Square - Bolling Building</td>\n",
       "      <td>1</td>\n",
       "      <td>29308</td>\n",
       "      <td>2021</td>\n",
       "      <td>10</td>\n",
       "      <td>Friday</td>\n",
       "      <td>1</td>\n",
       "      <td>22</td>\n",
       "      <td>52</td>\n",
       "      <td>30</td>\n",
       "      <td>3150</td>\n",
       "    </tr>\n",
       "    <tr>\n",
       "      <th>862128</th>\n",
       "      <td>42:58.8</td>\n",
       "      <td>24</td>\n",
       "      <td>Boston Landing</td>\n",
       "      <td>1</td>\n",
       "      <td>148933</td>\n",
       "      <td>2021</td>\n",
       "      <td>10</td>\n",
       "      <td>Saturday</td>\n",
       "      <td>2</td>\n",
       "      <td>16</td>\n",
       "      <td>42</td>\n",
       "      <td>58</td>\n",
       "      <td>2578</td>\n",
       "    </tr>\n",
       "  </tbody>\n",
       "</table>\n",
       "<p>426307 rows × 13 columns</p>\n",
       "</div>"
      ],
      "text/plain": [
       "           time  capacity                                            station  \\\n",
       "42      03:02.3        20                 Galileo Galilei Way at Main Street   \n",
       "54      03:54.5        15                                  Lesley University   \n",
       "63      04:46.0        21                     Beacon St at Massachusetts Ave   \n",
       "70      05:12.1        24  Roxbury Crossing T Stop - Columbus Ave at Trem...   \n",
       "85      05:55.7        16                             Cambridge St at Joy St   \n",
       "...         ...       ...                                                ...   \n",
       "862100  09:39.9        35                   South Station - 700 Atlantic Ave   \n",
       "862104  46:46.1        23                   South Station - 700 Atlantic Ave   \n",
       "862105  01:31.3        58                   Dudley Square - Bolling Building   \n",
       "862115  52:30.0        60                   Dudley Square - Bolling Building   \n",
       "862128  42:58.8        24                                     Boston Landing   \n",
       "\n",
       "        increment  wait_time  year  month day_of_week  day  hour  minute  \\\n",
       "42              1       1056  2021      9   Wednesday    1     0       3   \n",
       "54              1       1034  2021      9   Wednesday    1     0       3   \n",
       "63              1        664  2021      9   Wednesday    1     0       4   \n",
       "70              1       1744  2021      9   Wednesday    1     0       5   \n",
       "85              1        506  2021      9   Wednesday    1     0       5   \n",
       "...           ...        ...   ...    ...         ...  ...   ...     ...   \n",
       "862100          1       5826  2021     10      Friday    1     1       9   \n",
       "862104          1     125752  2021     10      Friday    1     2      46   \n",
       "862105          1      67858  2021     10      Friday    1     4       1   \n",
       "862115          1      29308  2021     10      Friday    1    22      52   \n",
       "862128          1     148933  2021     10    Saturday    2    16      42   \n",
       "\n",
       "        second  seconds_from_hour  \n",
       "42           2                182  \n",
       "54          54                234  \n",
       "63          46                286  \n",
       "70          12                312  \n",
       "85          55                355  \n",
       "...        ...                ...  \n",
       "862100      39                579  \n",
       "862104      46               2806  \n",
       "862105      31                 91  \n",
       "862115      30               3150  \n",
       "862128      58               2578  \n",
       "\n",
       "[426307 rows x 13 columns]"
      ]
     },
     "execution_count": 7,
     "metadata": {},
     "output_type": "execute_result"
    }
   ],
   "source": [
    "X"
   ]
  },
  {
   "cell_type": "code",
   "execution_count": 8,
   "id": "03ca479d",
   "metadata": {},
   "outputs": [
    {
     "data": {
      "text/plain": [
       "2167     3420\n",
       "2168     1647\n",
       "2171    52250\n",
       "2173     3443\n",
       "2174     2801\n",
       "2175      149\n",
       "2176        4\n",
       "2177     4731\n",
       "2178      135\n",
       "2179    14368\n",
       "2181     1743\n",
       "2182      821\n",
       "2187      630\n",
       "2189     7318\n",
       "2191     1206\n",
       "2193      987\n",
       "2194       12\n",
       "2197      490\n",
       "2198       30\n",
       "2201      799\n",
       "Name: wait_time, dtype: int64"
      ]
     },
     "execution_count": 8,
     "metadata": {},
     "output_type": "execute_result"
    }
   ],
   "source": [
    "X['wait_time'][1000:1020]"
   ]
  },
  {
   "cell_type": "code",
   "execution_count": 9,
   "id": "7c3cb7e3",
   "metadata": {},
   "outputs": [
    {
     "data": {
      "text/plain": [
       "42        1\n",
       "54        1\n",
       "63        1\n",
       "70        1\n",
       "85        1\n",
       "         ..\n",
       "862100    1\n",
       "862104    1\n",
       "862105    1\n",
       "862115    1\n",
       "862128    1\n",
       "Name: wait_time, Length: 426307, dtype: int64"
      ]
     },
     "execution_count": 9,
     "metadata": {},
     "output_type": "execute_result"
    }
   ],
   "source": [
    "y_cat = X['wait_time'] > 300\n",
    "y_cat = y_cat.replace(True, 1)\n",
    "y_cat = y_cat.replace(False, 0)\n",
    "y_cat"
   ]
  },
  {
   "cell_type": "code",
   "execution_count": 10,
   "id": "ad39341b",
   "metadata": {},
   "outputs": [
    {
     "data": {
      "text/plain": [
       "248054"
      ]
     },
     "execution_count": 10,
     "metadata": {},
     "output_type": "execute_result"
    }
   ],
   "source": [
    "sum(y_cat)"
   ]
  },
  {
   "cell_type": "code",
   "execution_count": 11,
   "id": "be9d1bea",
   "metadata": {},
   "outputs": [],
   "source": [
    "y = X['wait_time']"
   ]
  },
  {
   "cell_type": "code",
   "execution_count": 12,
   "id": "67ec6120",
   "metadata": {},
   "outputs": [],
   "source": [
    "X = X[features]"
   ]
  },
  {
   "cell_type": "code",
   "execution_count": 13,
   "id": "6d8b4091",
   "metadata": {},
   "outputs": [],
   "source": [
    "X_clean = pd.get_dummies(X, columns = ['station', 'day_of_week', 'day', 'hour',], drop_first = True)\n"
   ]
  },
  {
   "cell_type": "code",
   "execution_count": 14,
   "id": "5bd232e8",
   "metadata": {},
   "outputs": [
    {
     "data": {
      "text/html": [
       "<div>\n",
       "<style scoped>\n",
       "    .dataframe tbody tr th:only-of-type {\n",
       "        vertical-align: middle;\n",
       "    }\n",
       "\n",
       "    .dataframe tbody tr th {\n",
       "        vertical-align: top;\n",
       "    }\n",
       "\n",
       "    .dataframe thead th {\n",
       "        text-align: right;\n",
       "    }\n",
       "</style>\n",
       "<table border=\"1\" class=\"dataframe\">\n",
       "  <thead>\n",
       "    <tr style=\"text-align: right;\">\n",
       "      <th></th>\n",
       "      <th>seconds_from_hour</th>\n",
       "      <th>station_160 Arsenal</th>\n",
       "      <th>station_175 N Harvard St</th>\n",
       "      <th>station_191 Beacon St</th>\n",
       "      <th>station_2 Hummingbird Lane at Olmsted Green</th>\n",
       "      <th>station_30 Dane St</th>\n",
       "      <th>station_359 Broadway - Broadway at Fayette Street</th>\n",
       "      <th>station_645 Summer St</th>\n",
       "      <th>station_699 Mt Auburn St</th>\n",
       "      <th>station_7 Acre Park</th>\n",
       "      <th>...</th>\n",
       "      <th>hour_14</th>\n",
       "      <th>hour_15</th>\n",
       "      <th>hour_16</th>\n",
       "      <th>hour_17</th>\n",
       "      <th>hour_18</th>\n",
       "      <th>hour_19</th>\n",
       "      <th>hour_20</th>\n",
       "      <th>hour_21</th>\n",
       "      <th>hour_22</th>\n",
       "      <th>hour_23</th>\n",
       "    </tr>\n",
       "  </thead>\n",
       "  <tbody>\n",
       "    <tr>\n",
       "      <th>42</th>\n",
       "      <td>182</td>\n",
       "      <td>0</td>\n",
       "      <td>0</td>\n",
       "      <td>0</td>\n",
       "      <td>0</td>\n",
       "      <td>0</td>\n",
       "      <td>0</td>\n",
       "      <td>0</td>\n",
       "      <td>0</td>\n",
       "      <td>0</td>\n",
       "      <td>...</td>\n",
       "      <td>0</td>\n",
       "      <td>0</td>\n",
       "      <td>0</td>\n",
       "      <td>0</td>\n",
       "      <td>0</td>\n",
       "      <td>0</td>\n",
       "      <td>0</td>\n",
       "      <td>0</td>\n",
       "      <td>0</td>\n",
       "      <td>0</td>\n",
       "    </tr>\n",
       "    <tr>\n",
       "      <th>54</th>\n",
       "      <td>234</td>\n",
       "      <td>0</td>\n",
       "      <td>0</td>\n",
       "      <td>0</td>\n",
       "      <td>0</td>\n",
       "      <td>0</td>\n",
       "      <td>0</td>\n",
       "      <td>0</td>\n",
       "      <td>0</td>\n",
       "      <td>0</td>\n",
       "      <td>...</td>\n",
       "      <td>0</td>\n",
       "      <td>0</td>\n",
       "      <td>0</td>\n",
       "      <td>0</td>\n",
       "      <td>0</td>\n",
       "      <td>0</td>\n",
       "      <td>0</td>\n",
       "      <td>0</td>\n",
       "      <td>0</td>\n",
       "      <td>0</td>\n",
       "    </tr>\n",
       "    <tr>\n",
       "      <th>63</th>\n",
       "      <td>286</td>\n",
       "      <td>0</td>\n",
       "      <td>0</td>\n",
       "      <td>0</td>\n",
       "      <td>0</td>\n",
       "      <td>0</td>\n",
       "      <td>0</td>\n",
       "      <td>0</td>\n",
       "      <td>0</td>\n",
       "      <td>0</td>\n",
       "      <td>...</td>\n",
       "      <td>0</td>\n",
       "      <td>0</td>\n",
       "      <td>0</td>\n",
       "      <td>0</td>\n",
       "      <td>0</td>\n",
       "      <td>0</td>\n",
       "      <td>0</td>\n",
       "      <td>0</td>\n",
       "      <td>0</td>\n",
       "      <td>0</td>\n",
       "    </tr>\n",
       "    <tr>\n",
       "      <th>70</th>\n",
       "      <td>312</td>\n",
       "      <td>0</td>\n",
       "      <td>0</td>\n",
       "      <td>0</td>\n",
       "      <td>0</td>\n",
       "      <td>0</td>\n",
       "      <td>0</td>\n",
       "      <td>0</td>\n",
       "      <td>0</td>\n",
       "      <td>0</td>\n",
       "      <td>...</td>\n",
       "      <td>0</td>\n",
       "      <td>0</td>\n",
       "      <td>0</td>\n",
       "      <td>0</td>\n",
       "      <td>0</td>\n",
       "      <td>0</td>\n",
       "      <td>0</td>\n",
       "      <td>0</td>\n",
       "      <td>0</td>\n",
       "      <td>0</td>\n",
       "    </tr>\n",
       "    <tr>\n",
       "      <th>85</th>\n",
       "      <td>355</td>\n",
       "      <td>0</td>\n",
       "      <td>0</td>\n",
       "      <td>0</td>\n",
       "      <td>0</td>\n",
       "      <td>0</td>\n",
       "      <td>0</td>\n",
       "      <td>0</td>\n",
       "      <td>0</td>\n",
       "      <td>0</td>\n",
       "      <td>...</td>\n",
       "      <td>0</td>\n",
       "      <td>0</td>\n",
       "      <td>0</td>\n",
       "      <td>0</td>\n",
       "      <td>0</td>\n",
       "      <td>0</td>\n",
       "      <td>0</td>\n",
       "      <td>0</td>\n",
       "      <td>0</td>\n",
       "      <td>0</td>\n",
       "    </tr>\n",
       "    <tr>\n",
       "      <th>...</th>\n",
       "      <td>...</td>\n",
       "      <td>...</td>\n",
       "      <td>...</td>\n",
       "      <td>...</td>\n",
       "      <td>...</td>\n",
       "      <td>...</td>\n",
       "      <td>...</td>\n",
       "      <td>...</td>\n",
       "      <td>...</td>\n",
       "      <td>...</td>\n",
       "      <td>...</td>\n",
       "      <td>...</td>\n",
       "      <td>...</td>\n",
       "      <td>...</td>\n",
       "      <td>...</td>\n",
       "      <td>...</td>\n",
       "      <td>...</td>\n",
       "      <td>...</td>\n",
       "      <td>...</td>\n",
       "      <td>...</td>\n",
       "      <td>...</td>\n",
       "    </tr>\n",
       "    <tr>\n",
       "      <th>862100</th>\n",
       "      <td>579</td>\n",
       "      <td>0</td>\n",
       "      <td>0</td>\n",
       "      <td>0</td>\n",
       "      <td>0</td>\n",
       "      <td>0</td>\n",
       "      <td>0</td>\n",
       "      <td>0</td>\n",
       "      <td>0</td>\n",
       "      <td>0</td>\n",
       "      <td>...</td>\n",
       "      <td>0</td>\n",
       "      <td>0</td>\n",
       "      <td>0</td>\n",
       "      <td>0</td>\n",
       "      <td>0</td>\n",
       "      <td>0</td>\n",
       "      <td>0</td>\n",
       "      <td>0</td>\n",
       "      <td>0</td>\n",
       "      <td>0</td>\n",
       "    </tr>\n",
       "    <tr>\n",
       "      <th>862104</th>\n",
       "      <td>2806</td>\n",
       "      <td>0</td>\n",
       "      <td>0</td>\n",
       "      <td>0</td>\n",
       "      <td>0</td>\n",
       "      <td>0</td>\n",
       "      <td>0</td>\n",
       "      <td>0</td>\n",
       "      <td>0</td>\n",
       "      <td>0</td>\n",
       "      <td>...</td>\n",
       "      <td>0</td>\n",
       "      <td>0</td>\n",
       "      <td>0</td>\n",
       "      <td>0</td>\n",
       "      <td>0</td>\n",
       "      <td>0</td>\n",
       "      <td>0</td>\n",
       "      <td>0</td>\n",
       "      <td>0</td>\n",
       "      <td>0</td>\n",
       "    </tr>\n",
       "    <tr>\n",
       "      <th>862105</th>\n",
       "      <td>91</td>\n",
       "      <td>0</td>\n",
       "      <td>0</td>\n",
       "      <td>0</td>\n",
       "      <td>0</td>\n",
       "      <td>0</td>\n",
       "      <td>0</td>\n",
       "      <td>0</td>\n",
       "      <td>0</td>\n",
       "      <td>0</td>\n",
       "      <td>...</td>\n",
       "      <td>0</td>\n",
       "      <td>0</td>\n",
       "      <td>0</td>\n",
       "      <td>0</td>\n",
       "      <td>0</td>\n",
       "      <td>0</td>\n",
       "      <td>0</td>\n",
       "      <td>0</td>\n",
       "      <td>0</td>\n",
       "      <td>0</td>\n",
       "    </tr>\n",
       "    <tr>\n",
       "      <th>862115</th>\n",
       "      <td>3150</td>\n",
       "      <td>0</td>\n",
       "      <td>0</td>\n",
       "      <td>0</td>\n",
       "      <td>0</td>\n",
       "      <td>0</td>\n",
       "      <td>0</td>\n",
       "      <td>0</td>\n",
       "      <td>0</td>\n",
       "      <td>0</td>\n",
       "      <td>...</td>\n",
       "      <td>0</td>\n",
       "      <td>0</td>\n",
       "      <td>0</td>\n",
       "      <td>0</td>\n",
       "      <td>0</td>\n",
       "      <td>0</td>\n",
       "      <td>0</td>\n",
       "      <td>0</td>\n",
       "      <td>1</td>\n",
       "      <td>0</td>\n",
       "    </tr>\n",
       "    <tr>\n",
       "      <th>862128</th>\n",
       "      <td>2578</td>\n",
       "      <td>0</td>\n",
       "      <td>0</td>\n",
       "      <td>0</td>\n",
       "      <td>0</td>\n",
       "      <td>0</td>\n",
       "      <td>0</td>\n",
       "      <td>0</td>\n",
       "      <td>0</td>\n",
       "      <td>0</td>\n",
       "      <td>...</td>\n",
       "      <td>0</td>\n",
       "      <td>0</td>\n",
       "      <td>1</td>\n",
       "      <td>0</td>\n",
       "      <td>0</td>\n",
       "      <td>0</td>\n",
       "      <td>0</td>\n",
       "      <td>0</td>\n",
       "      <td>0</td>\n",
       "      <td>0</td>\n",
       "    </tr>\n",
       "  </tbody>\n",
       "</table>\n",
       "<p>426307 rows × 467 columns</p>\n",
       "</div>"
      ],
      "text/plain": [
       "        seconds_from_hour  station_160 Arsenal  station_175 N Harvard St  \\\n",
       "42                    182                    0                         0   \n",
       "54                    234                    0                         0   \n",
       "63                    286                    0                         0   \n",
       "70                    312                    0                         0   \n",
       "85                    355                    0                         0   \n",
       "...                   ...                  ...                       ...   \n",
       "862100                579                    0                         0   \n",
       "862104               2806                    0                         0   \n",
       "862105                 91                    0                         0   \n",
       "862115               3150                    0                         0   \n",
       "862128               2578                    0                         0   \n",
       "\n",
       "        station_191 Beacon St  station_2 Hummingbird Lane at Olmsted Green  \\\n",
       "42                          0                                            0   \n",
       "54                          0                                            0   \n",
       "63                          0                                            0   \n",
       "70                          0                                            0   \n",
       "85                          0                                            0   \n",
       "...                       ...                                          ...   \n",
       "862100                      0                                            0   \n",
       "862104                      0                                            0   \n",
       "862105                      0                                            0   \n",
       "862115                      0                                            0   \n",
       "862128                      0                                            0   \n",
       "\n",
       "        station_30 Dane St  station_359 Broadway - Broadway at Fayette Street  \\\n",
       "42                       0                                                  0   \n",
       "54                       0                                                  0   \n",
       "63                       0                                                  0   \n",
       "70                       0                                                  0   \n",
       "85                       0                                                  0   \n",
       "...                    ...                                                ...   \n",
       "862100                   0                                                  0   \n",
       "862104                   0                                                  0   \n",
       "862105                   0                                                  0   \n",
       "862115                   0                                                  0   \n",
       "862128                   0                                                  0   \n",
       "\n",
       "        station_645 Summer St  station_699 Mt Auburn St  station_7 Acre Park  \\\n",
       "42                          0                         0                    0   \n",
       "54                          0                         0                    0   \n",
       "63                          0                         0                    0   \n",
       "70                          0                         0                    0   \n",
       "85                          0                         0                    0   \n",
       "...                       ...                       ...                  ...   \n",
       "862100                      0                         0                    0   \n",
       "862104                      0                         0                    0   \n",
       "862105                      0                         0                    0   \n",
       "862115                      0                         0                    0   \n",
       "862128                      0                         0                    0   \n",
       "\n",
       "        ...  hour_14  hour_15  hour_16  hour_17  hour_18  hour_19  hour_20  \\\n",
       "42      ...        0        0        0        0        0        0        0   \n",
       "54      ...        0        0        0        0        0        0        0   \n",
       "63      ...        0        0        0        0        0        0        0   \n",
       "70      ...        0        0        0        0        0        0        0   \n",
       "85      ...        0        0        0        0        0        0        0   \n",
       "...     ...      ...      ...      ...      ...      ...      ...      ...   \n",
       "862100  ...        0        0        0        0        0        0        0   \n",
       "862104  ...        0        0        0        0        0        0        0   \n",
       "862105  ...        0        0        0        0        0        0        0   \n",
       "862115  ...        0        0        0        0        0        0        0   \n",
       "862128  ...        0        0        1        0        0        0        0   \n",
       "\n",
       "        hour_21  hour_22  hour_23  \n",
       "42            0        0        0  \n",
       "54            0        0        0  \n",
       "63            0        0        0  \n",
       "70            0        0        0  \n",
       "85            0        0        0  \n",
       "...         ...      ...      ...  \n",
       "862100        0        0        0  \n",
       "862104        0        0        0  \n",
       "862105        0        0        0  \n",
       "862115        0        1        0  \n",
       "862128        0        0        0  \n",
       "\n",
       "[426307 rows x 467 columns]"
      ]
     },
     "execution_count": 14,
     "metadata": {},
     "output_type": "execute_result"
    }
   ],
   "source": [
    "X_clean"
   ]
  },
  {
   "cell_type": "code",
   "execution_count": 25,
   "id": "a752c702",
   "metadata": {},
   "outputs": [],
   "source": [
    "from sklearn.model_selection import train_test_split\n",
    "X_train, X_test, y_train, y_test = train_test_split(X_clean, \n",
    "                                                    y_cat, \n",
    "                                                    train_size = 0.70, \n",
    "                                                    stratify= y_cat,\n",
    "                                                    random_state = 1)"
   ]
  },
  {
   "cell_type": "code",
   "execution_count": 34,
   "id": "5c1a5fb7",
   "metadata": {},
   "outputs": [
    {
     "data": {
      "text/plain": [
       "RandomForestClassifier()"
      ]
     },
     "execution_count": 34,
     "metadata": {},
     "output_type": "execute_result"
    }
   ],
   "source": [
    "from sklearn.linear_model import LinearRegression, LogisticRegression\n",
    "from sklearn.ensemble import RandomForestRegressor, RandomForestClassifier\n",
    "from sklearn.linear_model import Lasso\n",
    "from sklearn.linear_model import ElasticNet\n",
    "from sklearn.tree import DecisionTreeRegressor, DecisionTreeClassifier\n",
    "from sklearn.neighbors import KNeighborsRegressor\n",
    "from sklearn.ensemble import GradientBoostingRegressor, GradientBoostingClassifier\n",
    "\n",
    "# Select the model type\n",
    "model = RandomForestClassifier()\n",
    "\n",
    "# Fit the model to our data\n",
    "model.fit(X_train, y_train)"
   ]
  },
  {
   "cell_type": "code",
   "execution_count": 48,
   "id": "556a4015",
   "metadata": {},
   "outputs": [
    {
     "ename": "NameError",
     "evalue": "name 'IAI' is not defined",
     "output_type": "error",
     "traceback": [
      "\u001b[1;31m---------------------------------------------------------------------------\u001b[0m",
      "\u001b[1;31mNameError\u001b[0m                                 Traceback (most recent call last)",
      "\u001b[1;32m<ipython-input-48-f31535ae13f7>\u001b[0m in \u001b[0;36m<module>\u001b[1;34m\u001b[0m\n\u001b[1;32m----> 1\u001b[1;33m lnr = IAI.GridSearch(RandomForestClassifier(\n\u001b[0m\u001b[0;32m      2\u001b[0m     random_seed = 511), \n\u001b[0;32m      3\u001b[0m     \u001b[0mn_estimators\u001b[0m \u001b[1;33m=\u001b[0m \u001b[1;33m[\u001b[0m\u001b[1;36m500\u001b[0m\u001b[1;33m,\u001b[0m \u001b[1;36m1000\u001b[0m\u001b[1;33m,\u001b[0m \u001b[1;36m2000\u001b[0m\u001b[1;33m]\u001b[0m\u001b[1;33m,\u001b[0m\u001b[1;33m\u001b[0m\u001b[1;33m\u001b[0m\u001b[0m\n\u001b[0;32m      4\u001b[0m     cp = [0.001, 0.005, 0.01, 0.05, 0.1, 0.5])\n\u001b[0;32m      5\u001b[0m \u001b[1;33m\u001b[0m\u001b[0m\n",
      "\u001b[1;31mNameError\u001b[0m: name 'IAI' is not defined"
     ]
    }
   ],
   "source": [
    "lnr = GridSearchCV(RandomForestClassifier(\n",
    "    random_seed = 511), \n",
    "    n_estimators = [500, 1000, 2000],\n",
    "    cp = [0.001, 0.005, 0.01, 0.05, 0.1, 0.5])\n",
    "\n",
    "lnr.fit(lnr, X_train, y_train)"
   ]
  },
  {
   "cell_type": "code",
   "execution_count": 35,
   "id": "a85c0990",
   "metadata": {},
   "outputs": [],
   "source": [
    "from sklearn import metrics\n",
    "y_train_pred = model.predict(X_train)\n",
    "y_test_pred = model.predict(X_test)\n",
    "\n",
    "# r2_train = metrics.r2_score(y_train, y_train_pred)\n",
    "# r2_test = metrics.r2_score(y_test, y_test_pred)\n",
    "\n",
    "auc_train = metrics.roc_auc_score(y_train, y_train_pred)\n",
    "auc_test = metrics.roc_auc_score(y_test, y_test_pred)"
   ]
  },
  {
   "cell_type": "code",
   "execution_count": 36,
   "id": "5546e8d5",
   "metadata": {},
   "outputs": [
    {
     "data": {
      "text/plain": [
       "0.6381975557692758"
      ]
     },
     "execution_count": 36,
     "metadata": {},
     "output_type": "execute_result"
    }
   ],
   "source": [
    "metrics.accuracy_score(y_test, y_test_pred)"
   ]
  },
  {
   "cell_type": "code",
   "execution_count": 37,
   "id": "cb989b8f",
   "metadata": {},
   "outputs": [
    {
     "data": {
      "text/plain": [
       "0.6321269578021126"
      ]
     },
     "execution_count": 37,
     "metadata": {},
     "output_type": "execute_result"
    }
   ],
   "source": [
    "auc_test"
   ]
  },
  {
   "cell_type": "code",
   "execution_count": null,
   "id": "8b1c7fef",
   "metadata": {},
   "outputs": [],
   "source": []
  },
  {
   "cell_type": "code",
   "execution_count": 182,
   "id": "1bfe32cb",
   "metadata": {},
   "outputs": [
    {
     "data": {
      "text/plain": [
       "0.370539164580836"
      ]
     },
     "execution_count": 182,
     "metadata": {},
     "output_type": "execute_result"
    }
   ],
   "source": [
    "r2_train"
   ]
  },
  {
   "cell_type": "code",
   "execution_count": 183,
   "id": "e7947ba3",
   "metadata": {},
   "outputs": [
    {
     "data": {
      "text/plain": [
       "0.15192320703581041"
      ]
     },
     "execution_count": 183,
     "metadata": {},
     "output_type": "execute_result"
    }
   ],
   "source": [
    "r2_test"
   ]
  },
  {
   "cell_type": "code",
   "execution_count": 61,
   "id": "11f7c3f4",
   "metadata": {},
   "outputs": [
    {
     "data": {
      "text/plain": [
       "array([ 590.1633099 , 4414.83220943, -448.85237614, ..., 1322.60261489,\n",
       "         66.30093624, -332.98419694])"
      ]
     },
     "execution_count": 61,
     "metadata": {},
     "output_type": "execute_result"
    }
   ],
   "source": [
    "y_test_pred"
   ]
  }
 ],
 "metadata": {
  "kernelspec": {
   "display_name": "Python 3",
   "language": "python",
   "name": "python3"
  },
  "language_info": {
   "codemirror_mode": {
    "name": "ipython",
    "version": 3
   },
   "file_extension": ".py",
   "mimetype": "text/x-python",
   "name": "python",
   "nbconvert_exporter": "python",
   "pygments_lexer": "ipython3",
   "version": "3.9.5"
  }
 },
 "nbformat": 4,
 "nbformat_minor": 5
}

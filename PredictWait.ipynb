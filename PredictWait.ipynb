{
 "cells": [
  {
   "cell_type": "code",
   "execution_count": 5,
   "id": "d577e65a",
   "metadata": {},
   "outputs": [],
   "source": [
    "import pandas as pd\n",
    "import numpy as np\n",
    "import random\n",
    "import sklearn\n",
    "from sklearn.linear_model import LinearRegression, LogisticRegression, LogisticRegressionCV\n",
    "from sklearn import metrics"
   ]
  },
  {
   "cell_type": "code",
   "execution_count": 7,
   "id": "76ad621d",
   "metadata": {},
   "outputs": [],
   "source": [
    "def getModel(df_train, df_test):\n",
    "    import pandas as pd\n",
    "    import numpy as np\n",
    "    import random\n",
    "    import sklearn\n",
    "    from sklearn.linear_model import LinearRegression, LogisticRegression, LogisticRegressionCV\n",
    "    from sklearn import metrics\n",
    "    \n",
    "    # define features to use in model\n",
    "    features = ['station', \n",
    "            'day_of_week', \n",
    "            'day', \n",
    "            'hour', \n",
    "            'seconds_from_hour',\n",
    "            'Temp.x',\n",
    "            'Rain.x',\n",
    "            'avgBikeIn',\n",
    "            'avgBikeOut',\n",
    "            'avgwait',\n",
    "            'Total.docks',\n",
    "            'cluster1',\n",
    "            'cluster2',\n",
    "            'cluster3',\n",
    "            'cluster4',\n",
    "            'cluster5',\n",
    "            'cluster6'\n",
    "           ]\n",
    "    \n",
    "    # create column for seconds in hour\n",
    "    df_train['seconds_from_hour'] = 60*df_train['minute'] + df_train['second']\n",
    "    df_test['seconds_from_hour'] = 60*df_test['minute'] + df_test['second']\n",
    "    \n",
    "    # get only data where a bike arrived (increment = 1) and there exists a valid wait-time\n",
    "    X_train = df_train.loc[:, df_train.columns != 'decrement']\n",
    "    X_train = X_train[X_train['increment']==1]\n",
    "    X_train = X_train[X_train['wait_time']!=0]\n",
    "    X_test = df_test.loc[:, df_test.columns != 'decrement']\n",
    "    X_test = X_test[X_test['increment']==1]\n",
    "    X_test = X_test[X_test['wait_time']!=0]\n",
    "    \n",
    "    # get data where docks in non-null, avoid errors\n",
    "    X_train = X_train[X_train['Total.docks'].notnull()]\n",
    "    X_test = X_test[X_test['Total.docks'].notnull()]\n",
    "    \n",
    "    # get y's based on whether wait time is 5min (300 sec) or more\n",
    "    y_train = X_train['wait_time'] > 300\n",
    "    y_train = y_train.replace(True, 1)\n",
    "    y_train = y_train.replace(False, 0)\n",
    "    y_test = X_test['wait_time'] > 300\n",
    "    y_test = y_test.replace(True, 1)\n",
    "    y_test = y_test.replace(False, 0)\n",
    "    \n",
    "    # get only desired features; one-hot encode category vars that aren't OHE already\n",
    "    X_train = X_train[features]\n",
    "    X_train = pd.get_dummies(X_train, columns = ['station', \n",
    "                                             'day_of_week', \n",
    "                                             'day', \n",
    "                                             'hour'\n",
    "                                             ], drop_first = True)\n",
    "    \n",
    "    X_test = X_test[features]\n",
    "    X_test = pd.get_dummies(X_test, columns = ['station',\n",
    "                                             'day_of_week', \n",
    "                                             'day', \n",
    "                                             'hour',\n",
    "                                             ], drop_first = True)\n",
    "    \n",
    "    # fix issue where columns are missing in training/test due to one-hot encoding\n",
    "    for col in X_train.columns:\n",
    "        if col not in X_test:\n",
    "            X_test[col] = 0\n",
    "        \n",
    "    for col in X_test.columns:\n",
    "        if col not in X_train:\n",
    "            X_train[col] = 0\n",
    "    \n",
    "    # ensure columns are in the same order in train and test\n",
    "    cols = X_train.columns\n",
    "    X_test = X_test[cols]\n",
    "    \n",
    "    # Select the model type\n",
    "    # model = RandomForestClassifier()\n",
    "    model = LogisticRegressionCV(random_state=1, max_iter = 1000)\n",
    "    # Fit the model to our data\n",
    "    model.fit(X_train, y_train)\n",
    "    \n",
    "    # predict in and out of sample\n",
    "    y_train_pred = model.predict(X_train)\n",
    "    y_test_pred = model.predict(X_test)\n",
    "\n",
    "    auc_train = metrics.roc_auc_score(y_train, model.predict_proba(X_train)[:,1])\n",
    "    auc_test = metrics.roc_auc_score(y_test, model.predict_proba(X_test)[:,1])\n",
    "    \n",
    "    return model, y_test_pred, auc_test"
   ]
  },
  {
   "cell_type": "code",
   "execution_count": 3,
   "id": "569e5a16",
   "metadata": {},
   "outputs": [],
   "source": [
    "df_train = pd.read_csv('202109-stations-capacity/all_data_train_cluster.csv')\n",
    "df_test = pd.read_csv('202109-stations-capacity/all_data_test_cluster.csv')"
   ]
  },
  {
   "cell_type": "code",
   "execution_count": 8,
   "id": "f502ee4b",
   "metadata": {},
   "outputs": [],
   "source": [
    "m, pred, auc = getModel(df_train, df_test)"
   ]
  },
  {
   "cell_type": "code",
   "execution_count": 17,
   "id": "8d81244a",
   "metadata": {},
   "outputs": [
    {
     "data": {
      "text/plain": [
       "(1, 477)"
      ]
     },
     "execution_count": 17,
     "metadata": {},
     "output_type": "execute_result"
    }
   ],
   "source": [
    "m.coef_.shape"
   ]
  }
 ],
 "metadata": {
  "kernelspec": {
   "display_name": "Python 3",
   "language": "python",
   "name": "python3"
  },
  "language_info": {
   "codemirror_mode": {
    "name": "ipython",
    "version": 3
   },
   "file_extension": ".py",
   "mimetype": "text/x-python",
   "name": "python",
   "nbconvert_exporter": "python",
   "pygments_lexer": "ipython3",
   "version": "3.9.5"
  }
 },
 "nbformat": 4,
 "nbformat_minor": 5
}
